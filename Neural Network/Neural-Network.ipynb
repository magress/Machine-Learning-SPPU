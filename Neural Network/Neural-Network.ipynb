{
 "cells": [
  {
   "cell_type": "code",
   "execution_count": 1,
   "metadata": {},
   "outputs": [],
   "source": [
    "import numpy as np\n",
    "\n",
    "def sigmoid(x) :\n",
    "    return 1 / (1 + np.exp(-x))\n",
    "\n",
    "def derivative_sigmoid(x) :\n",
    "    return x * (1 - x)"
   ]
  },
  {
   "cell_type": "code",
   "execution_count": 2,
   "metadata": {},
   "outputs": [],
   "source": [
    "X = np.array([[1, 0, 1, 0],\n",
    "              [1, 0, 1, 1],\n",
    "              [0, 1, 0, 1]])\n",
    "\n",
    "y = np.array([[1], [1], [0]])\n"
   ]
  },
  {
   "cell_type": "code",
   "execution_count": 3,
   "metadata": {},
   "outputs": [],
   "source": [
    "epoch = 5000\n",
    "lr = 0.1"
   ]
  },
  {
   "cell_type": "code",
   "execution_count": 4,
   "metadata": {},
   "outputs": [],
   "source": [
    "in_n = X.shape[1]\n",
    "hidden_n = 3;\n",
    "out_n = 1;"
   ]
  },
  {
   "cell_type": "code",
   "execution_count": 5,
   "metadata": {},
   "outputs": [],
   "source": [
    "wh = np.random.uniform(size = (in_n, hidden_n))\n",
    "bh = np.random.uniform(size = (1, hidden_n))\n",
    "wout = np.random.uniform(size = (hidden_n, out_n))\n",
    "bout = np.random.uniform(size = (1, out_n))"
   ]
  },
  {
   "cell_type": "code",
   "execution_count": 8,
   "metadata": {},
   "outputs": [
    {
     "data": {
      "text/plain": [
       "array([[-0.92735085,  1.4551478 ,  1.39883902],\n",
       "       [ 1.98990026, -1.12526465, -1.53711328],\n",
       "       [-0.76071508,  1.94677223,  1.49706145],\n",
       "       [ 0.7026408 , -0.68196602, -0.75603087]])"
      ]
     },
     "execution_count": 8,
     "metadata": {},
     "output_type": "execute_result"
    }
   ],
   "source": [
    "wh"
   ]
  },
  {
   "cell_type": "code",
   "execution_count": 9,
   "metadata": {},
   "outputs": [
    {
     "data": {
      "text/plain": [
       "array([[-0.68199496, -0.68060124, -0.04055626]])"
      ]
     },
     "execution_count": 9,
     "metadata": {},
     "output_type": "execute_result"
    }
   ],
   "source": [
    "bh"
   ]
  },
  {
   "cell_type": "code",
   "execution_count": 10,
   "metadata": {},
   "outputs": [
    {
     "data": {
      "text/plain": [
       "array([[-2.94978365],\n",
       "       [ 3.08996376],\n",
       "       [ 2.88148549]])"
      ]
     },
     "execution_count": 10,
     "metadata": {},
     "output_type": "execute_result"
    }
   ],
   "source": [
    "wout"
   ]
  },
  {
   "cell_type": "code",
   "execution_count": 11,
   "metadata": {},
   "outputs": [
    {
     "data": {
      "text/plain": [
       "array([[-1.20841975]])"
      ]
     },
     "execution_count": 11,
     "metadata": {},
     "output_type": "execute_result"
    }
   ],
   "source": [
    "bout"
   ]
  },
  {
   "cell_type": "code",
   "execution_count": 22,
   "metadata": {},
   "outputs": [
    {
     "name": "stdout",
     "output_type": "stream",
     "text": [
      "[[0.99188645]\n",
      " [0.98623578]\n",
      " [0.01843167]]\n"
     ]
    }
   ],
   "source": [
    "for i in range(epoch) :\n",
    "    hidden_in = np.dot(X, wh) + bh # X.wh + bh\n",
    "    hidden_act = sigmoid(hidden_in)\n",
    "    \n",
    "    out_in = np.dot(hidden_act, wout) + bout # H.wout + bout\n",
    "    out = sigmoid(out_in)\n",
    "    \n",
    "    error = y - out\n",
    "    out_delta = error * derivative_sigmoid(out)\n",
    "    \n",
    "    hidden_error = out_delta.dot(wout.T)\n",
    "    hidden_delta = hidden_error * derivative_sigmoid(hidden_act)\n",
    "    \n",
    "    wout += hidden_act.T.dot(out_delta) * lr\n",
    "    bout += np.sum(out_delta) * lr\n",
    "    wh += X.T.dot(hidden_delta) * lr\n",
    "    bh += np.sum(hidden_delta) * lr\n",
    "    \n",
    "print(out)"
   ]
  },
  {
   "cell_type": "code",
   "execution_count": null,
   "metadata": {},
   "outputs": [],
   "source": []
  }
 ],
 "metadata": {
  "kernelspec": {
   "display_name": "Python 3",
   "language": "python",
   "name": "python3"
  },
  "language_info": {
   "codemirror_mode": {
    "name": "ipython",
    "version": 3
   },
   "file_extension": ".py",
   "mimetype": "text/x-python",
   "name": "python",
   "nbconvert_exporter": "python",
   "pygments_lexer": "ipython3",
   "version": "3.7.3"
  }
 },
 "nbformat": 4,
 "nbformat_minor": 2
}
